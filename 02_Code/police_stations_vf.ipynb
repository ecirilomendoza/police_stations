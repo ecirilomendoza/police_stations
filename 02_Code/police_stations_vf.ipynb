{
 "cells": [
  {
   "cell_type": "markdown",
   "id": "b7a91f78",
   "metadata": {},
   "source": [
    "## Police stations (2019) with characteristics in Cenacom (2017) and Renadef (2017): A map"
   ]
  },
  {
   "cell_type": "markdown",
   "id": "14607864",
   "metadata": {},
   "source": [
    "Importing relevant packages"
   ]
  },
  {
   "cell_type": "code",
   "execution_count": 1,
   "id": "a0ce01ba",
   "metadata": {},
   "outputs": [],
   "source": [
    "import pandas as pd\n",
    "import folium\n",
    "import re\n",
    "import numpy as np\n",
    "from unicodedata import normalize\n",
    "\n",
    "import geopandas as gpd"
   ]
  },
  {
   "cell_type": "markdown",
   "id": "b0619e10",
   "metadata": {},
   "source": [
    "Opening database of police stations"
   ]
  },
  {
   "cell_type": "code",
   "execution_count": 2,
   "id": "ffcd95bd",
   "metadata": {},
   "outputs": [],
   "source": [
    "# setting relevant paths\n",
    "output = r\"..\\03_Output\\01_Maps\""
   ]
  },
  {
   "cell_type": "code",
   "execution_count": 3,
   "id": "aa66f30f",
   "metadata": {},
   "outputs": [],
   "source": [
    "# openning police stations database\n",
    "base = r\"..\\01_Data\\05_Relación_de_comisarías\\Relación de comisarías básicas 1318.xlsx\"\n",
    "comi = pd.read_excel(base, header=1, skiprows=1, dtype={\"CODIGO INEI\": str})"
   ]
  },
  {
   "cell_type": "markdown",
   "id": "0fbd7eb9",
   "metadata": {},
   "source": [
    "## 1. Data cleaning: police stations database"
   ]
  },
  {
   "cell_type": "markdown",
   "id": "3293f2fc",
   "metadata": {},
   "source": [
    "### Fixing variable names (col names)"
   ]
  },
  {
   "cell_type": "code",
   "execution_count": 4,
   "id": "0d92288c",
   "metadata": {},
   "outputs": [
    {
     "name": "stdout",
     "output_type": "stream",
     "text": [
      "Index(['CODIGO INEI', 'CODIGO CPNP', 'NOMBREDD', 'NOMBREPP', 'NOMBREDI', 'GPS',\n",
      "       'MACREGPOL/FP', 'REGPOL', 'DIVPOL/DIVOPUS', 'COMISARÍA', 'TIPO*',\n",
      "       'RURAL*', 'SECTORIAL*', 'ZONAL*', 'Unnamed: 14', 'Unnamed: 15',\n",
      "       'Unnamed: 16'],\n",
      "      dtype='object')\n"
     ]
    }
   ],
   "source": [
    "print(comi.columns)\n",
    "comi.rename(columns={\"CODIGO INEI\" : \"cod_inei\" ,\n",
    "                   \"CODIGO CPNP\" : \"cod_pnp\" ,\n",
    "                   \"CODIGO CPNP\" : \"cod_pnp\",\n",
    "                   \"NOMBREDD\" : \"departamento\" ,\n",
    "                   \"NOMBREPP\" : \"provincia\" ,\n",
    "                   \"NOMBREDI\" : \"distrito\" ,\n",
    "                   \"GPS\" : \"gps\" ,\n",
    "                   \"MACREGPOL/FP\" : \"macro_pnp\" ,\n",
    "                   \"REGPOL\" : \"reg_pnp\" ,\n",
    "                   \"DIVPOL/DIVOPUS\" : \"divpol_divopus\" ,\n",
    "                   \"COMISARÍA\" : \"nombre\" ,\n",
    "                   \"TIPO*\" : \"tipo\" ,\n",
    "                   \"RURAL*\" : \"rural\" ,\n",
    "                   \"SECTORIAL*\" : \"sectorial\" ,\n",
    "                   \"ZONAL*\" : \"zonal\" ,\n",
    "                  }, \n",
    "          inplace=True)\n",
    "#comi"
   ]
  },
  {
   "cell_type": "markdown",
   "id": "c5828148",
   "metadata": {},
   "source": [
    "### Fixing variable types "
   ]
  },
  {
   "cell_type": "markdown",
   "id": "a4de5e75",
   "metadata": {},
   "source": [
    "Vars with problems: \n",
    "1. tipo: from string to categorical.\n",
    "2. rural: if it's rural then rural=1 and =0 otherwise.\n",
    "3. sectorial: if it's sectorial then sectorial=1 and =0 otherwise.\n",
    "4. zonal: if it's zonal then zonal=1 and =0 otherwise."
   ]
  },
  {
   "cell_type": "code",
   "execution_count": 5,
   "id": "ee94c898",
   "metadata": {},
   "outputs": [
    {
     "data": {
      "text/plain": [
       "array(['A', 'D', 'B', 'C', 'E'], dtype=object)"
      ]
     },
     "execution_count": 5,
     "metadata": {},
     "output_type": "execute_result"
    }
   ],
   "source": [
    "pd.unique(comi[\"tipo\"])"
   ]
  },
  {
   "cell_type": "code",
   "execution_count": 6,
   "id": "720b93c7",
   "metadata": {},
   "outputs": [],
   "source": [
    "comi[\"tipo\"] = comi[\"tipo\"].astype(\"category\")"
   ]
  },
  {
   "cell_type": "code",
   "execution_count": 7,
   "id": "458fed0d",
   "metadata": {},
   "outputs": [
    {
     "data": {
      "text/plain": [
       "X      877\n",
       "NaN    441\n",
       "Name: rural, dtype: int64"
      ]
     },
     "execution_count": 7,
     "metadata": {},
     "output_type": "execute_result"
    }
   ],
   "source": [
    "# Unique values\n",
    "pd.unique(comi[\"rural\"])\n",
    "comi[\"rural\"].value_counts(dropna=False)"
   ]
  },
  {
   "cell_type": "markdown",
   "id": "88e3c0ee",
   "metadata": {},
   "source": [
    "Looping to create a new var takes 1 when a var = \"X\""
   ]
  },
  {
   "cell_type": "code",
   "execution_count": 8,
   "id": "7609bb13",
   "metadata": {},
   "outputs": [],
   "source": [
    "fix = {\"rural\" : \"rural_eli\" ,\n",
    "       \"zonal\" : \"zonal_eli\" ,\n",
    "       \"sectorial\" : \"sectorial_eli\"}\n",
    "\n",
    "for key,value in fix.items():\n",
    "    comi[value]=np.where(comi[key] == \"X\", 1, 0)"
   ]
  },
  {
   "cell_type": "code",
   "execution_count": 9,
   "id": "3d6bd406",
   "metadata": {},
   "outputs": [
    {
     "data": {
      "text/html": [
       "<div>\n",
       "<style scoped>\n",
       "    .dataframe tbody tr th:only-of-type {\n",
       "        vertical-align: middle;\n",
       "    }\n",
       "\n",
       "    .dataframe tbody tr th {\n",
       "        vertical-align: top;\n",
       "    }\n",
       "\n",
       "    .dataframe thead th {\n",
       "        text-align: right;\n",
       "    }\n",
       "</style>\n",
       "<table border=\"1\" class=\"dataframe\">\n",
       "  <thead>\n",
       "    <tr style=\"text-align: right;\">\n",
       "      <th></th>\n",
       "      <th>rural</th>\n",
       "      <th>zonal</th>\n",
       "      <th>sectorial</th>\n",
       "      <th>rural_eli</th>\n",
       "      <th>zonal_eli</th>\n",
       "      <th>sectorial_eli</th>\n",
       "    </tr>\n",
       "  </thead>\n",
       "  <tbody>\n",
       "    <tr>\n",
       "      <th>1</th>\n",
       "      <td>X</td>\n",
       "      <td>NaN</td>\n",
       "      <td>NaN</td>\n",
       "      <td>1</td>\n",
       "      <td>0</td>\n",
       "      <td>0</td>\n",
       "    </tr>\n",
       "    <tr>\n",
       "      <th>3</th>\n",
       "      <td>X</td>\n",
       "      <td>NaN</td>\n",
       "      <td>NaN</td>\n",
       "      <td>1</td>\n",
       "      <td>0</td>\n",
       "      <td>0</td>\n",
       "    </tr>\n",
       "    <tr>\n",
       "      <th>4</th>\n",
       "      <td>X</td>\n",
       "      <td>NaN</td>\n",
       "      <td>NaN</td>\n",
       "      <td>1</td>\n",
       "      <td>0</td>\n",
       "      <td>0</td>\n",
       "    </tr>\n",
       "    <tr>\n",
       "      <th>5</th>\n",
       "      <td>X</td>\n",
       "      <td>NaN</td>\n",
       "      <td>NaN</td>\n",
       "      <td>1</td>\n",
       "      <td>0</td>\n",
       "      <td>0</td>\n",
       "    </tr>\n",
       "    <tr>\n",
       "      <th>7</th>\n",
       "      <td>X</td>\n",
       "      <td>NaN</td>\n",
       "      <td>NaN</td>\n",
       "      <td>1</td>\n",
       "      <td>0</td>\n",
       "      <td>0</td>\n",
       "    </tr>\n",
       "    <tr>\n",
       "      <th>...</th>\n",
       "      <td>...</td>\n",
       "      <td>...</td>\n",
       "      <td>...</td>\n",
       "      <td>...</td>\n",
       "      <td>...</td>\n",
       "      <td>...</td>\n",
       "    </tr>\n",
       "    <tr>\n",
       "      <th>1132</th>\n",
       "      <td>X</td>\n",
       "      <td>NaN</td>\n",
       "      <td>NaN</td>\n",
       "      <td>1</td>\n",
       "      <td>0</td>\n",
       "      <td>0</td>\n",
       "    </tr>\n",
       "    <tr>\n",
       "      <th>1133</th>\n",
       "      <td>X</td>\n",
       "      <td>NaN</td>\n",
       "      <td>X</td>\n",
       "      <td>1</td>\n",
       "      <td>0</td>\n",
       "      <td>1</td>\n",
       "    </tr>\n",
       "    <tr>\n",
       "      <th>1134</th>\n",
       "      <td>X</td>\n",
       "      <td>NaN</td>\n",
       "      <td>NaN</td>\n",
       "      <td>1</td>\n",
       "      <td>0</td>\n",
       "      <td>0</td>\n",
       "    </tr>\n",
       "    <tr>\n",
       "      <th>1135</th>\n",
       "      <td>X</td>\n",
       "      <td>NaN</td>\n",
       "      <td>NaN</td>\n",
       "      <td>1</td>\n",
       "      <td>0</td>\n",
       "      <td>0</td>\n",
       "    </tr>\n",
       "    <tr>\n",
       "      <th>1136</th>\n",
       "      <td>X</td>\n",
       "      <td>NaN</td>\n",
       "      <td>NaN</td>\n",
       "      <td>1</td>\n",
       "      <td>0</td>\n",
       "      <td>0</td>\n",
       "    </tr>\n",
       "  </tbody>\n",
       "</table>\n",
       "<p>877 rows × 6 columns</p>\n",
       "</div>"
      ],
      "text/plain": [
       "     rural zonal sectorial  rural_eli  zonal_eli  sectorial_eli\n",
       "1        X   NaN       NaN          1          0              0\n",
       "3        X   NaN       NaN          1          0              0\n",
       "4        X   NaN       NaN          1          0              0\n",
       "5        X   NaN       NaN          1          0              0\n",
       "7        X   NaN       NaN          1          0              0\n",
       "...    ...   ...       ...        ...        ...            ...\n",
       "1132     X   NaN       NaN          1          0              0\n",
       "1133     X   NaN         X          1          0              1\n",
       "1134     X   NaN       NaN          1          0              0\n",
       "1135     X   NaN       NaN          1          0              0\n",
       "1136     X   NaN       NaN          1          0              0\n",
       "\n",
       "[877 rows x 6 columns]"
      ]
     },
     "execution_count": 9,
     "metadata": {},
     "output_type": "execute_result"
    }
   ],
   "source": [
    "important = [\"rural\", \"zonal\", \"sectorial\", \"rural_eli\", \"zonal_eli\", \"sectorial_eli\"]\n",
    "comi.loc[comi.rural == \"X\", important] # OK"
   ]
  },
  {
   "cell_type": "code",
   "execution_count": 10,
   "id": "28fc9638",
   "metadata": {
    "scrolled": true
   },
   "outputs": [
    {
     "data": {
      "text/plain": [
       "1    877\n",
       "0    441\n",
       "Name: rural_eli, dtype: int64"
      ]
     },
     "execution_count": 10,
     "metadata": {},
     "output_type": "execute_result"
    }
   ],
   "source": [
    "# Verifying once again\n",
    "comi[\"rural_eli\"].value_counts()"
   ]
  },
  {
   "cell_type": "code",
   "execution_count": 11,
   "id": "8884fa17",
   "metadata": {},
   "outputs": [],
   "source": [
    "# Replacing values and dropping aux vars\n",
    "for key,value in fix.items():\n",
    "    comi[key] = comi[value]\n",
    "    comi = comi.drop(columns = value)"
   ]
  },
  {
   "cell_type": "markdown",
   "id": "0cb4200a",
   "metadata": {},
   "source": [
    "Making sure there are no blanks in departamento, provincia, distrito and macro_pnp, and eliminating accent marks."
   ]
  },
  {
   "cell_type": "code",
   "execution_count": 12,
   "id": "66d9bd96",
   "metadata": {},
   "outputs": [],
   "source": [
    "nombres = [\"departamento\", \"provincia\", \"distrito\", \"macro_pnp\"]\n",
    "for columna in nombres:\n",
    "    comi[columna] = comi[columna].str.upper().str.strip()\n",
    "    comi[columna] = comi[columna].str.normalize(\"NFKD\").str.encode(\"ascii\", errors=\"ignore\").str.decode(\"utf-8\")"
   ]
  },
  {
   "cell_type": "markdown",
   "id": "eb52c731",
   "metadata": {},
   "source": [
    "### Merging ubigeo data"
   ]
  },
  {
   "cell_type": "markdown",
   "id": "3bb8a7ae",
   "metadata": {},
   "source": [
    "Opening data and adjusting the format based on the base of police stations database"
   ]
  },
  {
   "cell_type": "code",
   "execution_count": 13,
   "id": "2708a032",
   "metadata": {},
   "outputs": [],
   "source": [
    "# Recall principal\n",
    "ubig = r\"..\\01_Data\\UBIGEO.xls\"\n",
    "ubigeo = pd.read_excel(ubig, header=None, dtype=str, nrows=1874, skiprows=1, \n",
    "                       names= [\"depa\", \"CODREG\", \"provi\", \"CODPRO\", \"distr\", \"CODDIS\", \"UBIGEO\"])\n",
    "#ubigeo"
   ]
  },
  {
   "cell_type": "code",
   "execution_count": 14,
   "id": "436e03f5",
   "metadata": {},
   "outputs": [
    {
     "data": {
      "text/plain": [
       "array(['Amazonas', 'Áncash', 'Apurímac', 'Arequipa', 'Ayacucho',\n",
       "       'Cajamarca', 'Callao', 'Cusco', 'Huancavelica', 'Huánuco', 'Ica',\n",
       "       'Junín', 'La Libertad', 'Lambayeque', 'Lima', 'Loreto',\n",
       "       'Madre de Dios', 'Moquegua', 'Pasco', 'Piura', 'Puno',\n",
       "       'San Martín', 'Tacna', 'Tumbes', 'Ucayali'], dtype=object)"
      ]
     },
     "execution_count": 14,
     "metadata": {},
     "output_type": "execute_result"
    }
   ],
   "source": [
    "# There are accent marks\n",
    "pd.unique(ubigeo[\"depa\"])"
   ]
  },
  {
   "cell_type": "markdown",
   "id": "8a6e75fd",
   "metadata": {},
   "source": [
    "Removing blanks and accent marks in depa, provi and distr in order to match them with police station data."
   ]
  },
  {
   "cell_type": "code",
   "execution_count": 15,
   "id": "6108a3d5",
   "metadata": {},
   "outputs": [],
   "source": [
    "cambiar = [\"depa\", \"provi\", \"distr\"]\n",
    "for nombre in cambiar:\n",
    "    ubigeo[nombre] = ubigeo[nombre].str.upper().str.strip()\n",
    "    ubigeo[nombre] = ubigeo[nombre].str.normalize(\"NFKD\").str.encode(\"ascii\", errors=\"ignore\").str.decode(\"utf-8\")"
   ]
  },
  {
   "cell_type": "markdown",
   "id": "076c1f98",
   "metadata": {},
   "source": [
    "Merging both dataframes (ver [merge](https://stackoverflow.com/questions/41815079/pandas-merge-join-two-data-frames-on-multiple-columns))."
   ]
  },
  {
   "cell_type": "code",
   "execution_count": 16,
   "id": "f065b3fd",
   "metadata": {},
   "outputs": [],
   "source": [
    "# Merging in \"comi2\" as an auxiliary dataframe.\n",
    "comi2 = pd.merge(comi, ubigeo,  how=\"left\", left_on=['departamento','provincia', \"distrito\"], \n",
    "                 right_on = ['depa','provi', \"distr\"], validate = \"m:1\", indicator = True)"
   ]
  },
  {
   "cell_type": "code",
   "execution_count": 17,
   "id": "0c7fb46e",
   "metadata": {},
   "outputs": [
    {
     "data": {
      "text/plain": [
       "NaN       26\n",
       "150101    10\n",
       "150132     9\n",
       "021801     7\n",
       "150143     6\n",
       "          ..\n",
       "150407     1\n",
       "090501     1\n",
       "080207     1\n",
       "090101     1\n",
       "190206     1\n",
       "Name: UBIGEO, Length: 1041, dtype: int64"
      ]
     },
     "execution_count": 17,
     "metadata": {},
     "output_type": "execute_result"
    }
   ],
   "source": [
    "# Checking missing values in ubigeo\n",
    "comi2[\"UBIGEO\"].value_counts(dropna=False)"
   ]
  },
  {
   "cell_type": "code",
   "execution_count": 18,
   "id": "8690ff10",
   "metadata": {},
   "outputs": [
    {
     "data": {
      "text/plain": [
       "both          1292\n",
       "left_only       26\n",
       "right_only       0\n",
       "Name: _merge, dtype: int64"
      ]
     },
     "execution_count": 18,
     "metadata": {},
     "output_type": "execute_result"
    }
   ],
   "source": [
    "# Checking unmerged values\n",
    "comi2[\"_merge\"].value_counts()"
   ]
  },
  {
   "cell_type": "markdown",
   "id": "edaac525",
   "metadata": {},
   "source": [
    "Checking left-only mergers"
   ]
  },
  {
   "cell_type": "code",
   "execution_count": 19,
   "id": "b8f0859e",
   "metadata": {
    "scrolled": true
   },
   "outputs": [
    {
     "data": {
      "text/html": [
       "<div>\n",
       "<style scoped>\n",
       "    .dataframe tbody tr th:only-of-type {\n",
       "        vertical-align: middle;\n",
       "    }\n",
       "\n",
       "    .dataframe tbody tr th {\n",
       "        vertical-align: top;\n",
       "    }\n",
       "\n",
       "    .dataframe thead th {\n",
       "        text-align: right;\n",
       "    }\n",
       "</style>\n",
       "<table border=\"1\" class=\"dataframe\">\n",
       "  <thead>\n",
       "    <tr style=\"text-align: right;\">\n",
       "      <th></th>\n",
       "      <th>departamento</th>\n",
       "      <th>provincia</th>\n",
       "      <th>distrito</th>\n",
       "      <th>depa</th>\n",
       "      <th>provi</th>\n",
       "      <th>distr</th>\n",
       "    </tr>\n",
       "  </thead>\n",
       "  <tbody>\n",
       "    <tr>\n",
       "      <th>299</th>\n",
       "      <td>CAJAMARCA</td>\n",
       "      <td>CONTUMAZA</td>\n",
       "      <td>SANTA CRUZ DE TOLED</td>\n",
       "      <td>NaN</td>\n",
       "      <td>NaN</td>\n",
       "      <td>NaN</td>\n",
       "    </tr>\n",
       "    <tr>\n",
       "      <th>539</th>\n",
       "      <td>ICA</td>\n",
       "      <td>NAZCA</td>\n",
       "      <td>NAZCA</td>\n",
       "      <td>NaN</td>\n",
       "      <td>NaN</td>\n",
       "      <td>NaN</td>\n",
       "    </tr>\n",
       "    <tr>\n",
       "      <th>540</th>\n",
       "      <td>ICA</td>\n",
       "      <td>NAZCA</td>\n",
       "      <td>MARCONA</td>\n",
       "      <td>NaN</td>\n",
       "      <td>NaN</td>\n",
       "      <td>NaN</td>\n",
       "    </tr>\n",
       "    <tr>\n",
       "      <th>541</th>\n",
       "      <td>ICA</td>\n",
       "      <td>NAZCA</td>\n",
       "      <td>EL INGENIO</td>\n",
       "      <td>NaN</td>\n",
       "      <td>NaN</td>\n",
       "      <td>NaN</td>\n",
       "    </tr>\n",
       "    <tr>\n",
       "      <th>542</th>\n",
       "      <td>ICA</td>\n",
       "      <td>NAZCA</td>\n",
       "      <td>VISTA ALEGRE</td>\n",
       "      <td>NaN</td>\n",
       "      <td>NaN</td>\n",
       "      <td>NaN</td>\n",
       "    </tr>\n",
       "    <tr>\n",
       "      <th>1038</th>\n",
       "      <td>SAN MARTIN</td>\n",
       "      <td>RIOJA</td>\n",
       "      <td>NUEVO CAJAMARCA</td>\n",
       "      <td>NaN</td>\n",
       "      <td>NaN</td>\n",
       "      <td>NaN</td>\n",
       "    </tr>\n",
       "    <tr>\n",
       "      <th>1137</th>\n",
       "      <td>CALLAO</td>\n",
       "      <td>CALLAO</td>\n",
       "      <td>CALLAO</td>\n",
       "      <td>NaN</td>\n",
       "      <td>NaN</td>\n",
       "      <td>NaN</td>\n",
       "    </tr>\n",
       "    <tr>\n",
       "      <th>1138</th>\n",
       "      <td>CALLAO</td>\n",
       "      <td>CALLAO</td>\n",
       "      <td>LA PUNTA</td>\n",
       "      <td>NaN</td>\n",
       "      <td>NaN</td>\n",
       "      <td>NaN</td>\n",
       "    </tr>\n",
       "    <tr>\n",
       "      <th>1139</th>\n",
       "      <td>CALLAO</td>\n",
       "      <td>CALLAO</td>\n",
       "      <td>CALLAO</td>\n",
       "      <td>NaN</td>\n",
       "      <td>NaN</td>\n",
       "      <td>NaN</td>\n",
       "    </tr>\n",
       "    <tr>\n",
       "      <th>1140</th>\n",
       "      <td>CALLAO</td>\n",
       "      <td>CALLAO</td>\n",
       "      <td>CALLAO</td>\n",
       "      <td>NaN</td>\n",
       "      <td>NaN</td>\n",
       "      <td>NaN</td>\n",
       "    </tr>\n",
       "    <tr>\n",
       "      <th>1141</th>\n",
       "      <td>CALLAO</td>\n",
       "      <td>CALLAO</td>\n",
       "      <td>BELLAVISTA</td>\n",
       "      <td>NaN</td>\n",
       "      <td>NaN</td>\n",
       "      <td>NaN</td>\n",
       "    </tr>\n",
       "    <tr>\n",
       "      <th>1142</th>\n",
       "      <td>CALLAO</td>\n",
       "      <td>CALLAO</td>\n",
       "      <td>CALLAO</td>\n",
       "      <td>NaN</td>\n",
       "      <td>NaN</td>\n",
       "      <td>NaN</td>\n",
       "    </tr>\n",
       "    <tr>\n",
       "      <th>1143</th>\n",
       "      <td>CALLAO</td>\n",
       "      <td>CALLAO</td>\n",
       "      <td>BELLAVISTA</td>\n",
       "      <td>NaN</td>\n",
       "      <td>NaN</td>\n",
       "      <td>NaN</td>\n",
       "    </tr>\n",
       "    <tr>\n",
       "      <th>1144</th>\n",
       "      <td>CALLAO</td>\n",
       "      <td>CALLAO</td>\n",
       "      <td>LA PERLA</td>\n",
       "      <td>NaN</td>\n",
       "      <td>NaN</td>\n",
       "      <td>NaN</td>\n",
       "    </tr>\n",
       "    <tr>\n",
       "      <th>1145</th>\n",
       "      <td>CALLAO</td>\n",
       "      <td>CALLAO</td>\n",
       "      <td>CALLAO</td>\n",
       "      <td>NaN</td>\n",
       "      <td>NaN</td>\n",
       "      <td>NaN</td>\n",
       "    </tr>\n",
       "    <tr>\n",
       "      <th>1146</th>\n",
       "      <td>CALLAO</td>\n",
       "      <td>CALLAO</td>\n",
       "      <td>CALLAO</td>\n",
       "      <td>NaN</td>\n",
       "      <td>NaN</td>\n",
       "      <td>NaN</td>\n",
       "    </tr>\n",
       "    <tr>\n",
       "      <th>1147</th>\n",
       "      <td>CALLAO</td>\n",
       "      <td>CALLAO</td>\n",
       "      <td>CALLAO</td>\n",
       "      <td>NaN</td>\n",
       "      <td>NaN</td>\n",
       "      <td>NaN</td>\n",
       "    </tr>\n",
       "    <tr>\n",
       "      <th>1148</th>\n",
       "      <td>CALLAO</td>\n",
       "      <td>CALLAO</td>\n",
       "      <td>CALLAO</td>\n",
       "      <td>NaN</td>\n",
       "      <td>NaN</td>\n",
       "      <td>NaN</td>\n",
       "    </tr>\n",
       "    <tr>\n",
       "      <th>1149</th>\n",
       "      <td>CALLAO</td>\n",
       "      <td>CALLAO</td>\n",
       "      <td>CALLAO</td>\n",
       "      <td>NaN</td>\n",
       "      <td>NaN</td>\n",
       "      <td>NaN</td>\n",
       "    </tr>\n",
       "    <tr>\n",
       "      <th>1150</th>\n",
       "      <td>CALLAO</td>\n",
       "      <td>CALLAO</td>\n",
       "      <td>CARMEN DE LA LEGUA REYNOSO</td>\n",
       "      <td>NaN</td>\n",
       "      <td>NaN</td>\n",
       "      <td>NaN</td>\n",
       "    </tr>\n",
       "    <tr>\n",
       "      <th>1151</th>\n",
       "      <td>CALLAO</td>\n",
       "      <td>CALLAO</td>\n",
       "      <td>VENTANILLA</td>\n",
       "      <td>NaN</td>\n",
       "      <td>NaN</td>\n",
       "      <td>NaN</td>\n",
       "    </tr>\n",
       "    <tr>\n",
       "      <th>1152</th>\n",
       "      <td>CALLAO</td>\n",
       "      <td>CALLAO</td>\n",
       "      <td>CALLAO</td>\n",
       "      <td>NaN</td>\n",
       "      <td>NaN</td>\n",
       "      <td>NaN</td>\n",
       "    </tr>\n",
       "    <tr>\n",
       "      <th>1153</th>\n",
       "      <td>CALLAO</td>\n",
       "      <td>CALLAO</td>\n",
       "      <td>VENTANILLA</td>\n",
       "      <td>NaN</td>\n",
       "      <td>NaN</td>\n",
       "      <td>NaN</td>\n",
       "    </tr>\n",
       "    <tr>\n",
       "      <th>1154</th>\n",
       "      <td>CALLAO</td>\n",
       "      <td>CALLAO</td>\n",
       "      <td>VENTANILLA</td>\n",
       "      <td>NaN</td>\n",
       "      <td>NaN</td>\n",
       "      <td>NaN</td>\n",
       "    </tr>\n",
       "    <tr>\n",
       "      <th>1155</th>\n",
       "      <td>CALLAO</td>\n",
       "      <td>CALLAO</td>\n",
       "      <td>MI PERU</td>\n",
       "      <td>NaN</td>\n",
       "      <td>NaN</td>\n",
       "      <td>NaN</td>\n",
       "    </tr>\n",
       "    <tr>\n",
       "      <th>1156</th>\n",
       "      <td>CALLAO</td>\n",
       "      <td>CALLAO</td>\n",
       "      <td>CALLAO</td>\n",
       "      <td>NaN</td>\n",
       "      <td>NaN</td>\n",
       "      <td>NaN</td>\n",
       "    </tr>\n",
       "  </tbody>\n",
       "</table>\n",
       "</div>"
      ],
      "text/plain": [
       "     departamento  provincia                    distrito depa provi distr\n",
       "299     CAJAMARCA  CONTUMAZA         SANTA CRUZ DE TOLED  NaN   NaN   NaN\n",
       "539           ICA      NAZCA                       NAZCA  NaN   NaN   NaN\n",
       "540           ICA      NAZCA                     MARCONA  NaN   NaN   NaN\n",
       "541           ICA      NAZCA                  EL INGENIO  NaN   NaN   NaN\n",
       "542           ICA      NAZCA                VISTA ALEGRE  NaN   NaN   NaN\n",
       "1038   SAN MARTIN      RIOJA             NUEVO CAJAMARCA  NaN   NaN   NaN\n",
       "1137       CALLAO     CALLAO                      CALLAO  NaN   NaN   NaN\n",
       "1138       CALLAO     CALLAO                    LA PUNTA  NaN   NaN   NaN\n",
       "1139       CALLAO     CALLAO                      CALLAO  NaN   NaN   NaN\n",
       "1140       CALLAO     CALLAO                      CALLAO  NaN   NaN   NaN\n",
       "1141       CALLAO     CALLAO                  BELLAVISTA  NaN   NaN   NaN\n",
       "1142       CALLAO     CALLAO                      CALLAO  NaN   NaN   NaN\n",
       "1143       CALLAO     CALLAO                  BELLAVISTA  NaN   NaN   NaN\n",
       "1144       CALLAO     CALLAO                    LA PERLA  NaN   NaN   NaN\n",
       "1145       CALLAO     CALLAO                      CALLAO  NaN   NaN   NaN\n",
       "1146       CALLAO     CALLAO                      CALLAO  NaN   NaN   NaN\n",
       "1147       CALLAO     CALLAO                      CALLAO  NaN   NaN   NaN\n",
       "1148       CALLAO     CALLAO                      CALLAO  NaN   NaN   NaN\n",
       "1149       CALLAO     CALLAO                      CALLAO  NaN   NaN   NaN\n",
       "1150       CALLAO     CALLAO  CARMEN DE LA LEGUA REYNOSO  NaN   NaN   NaN\n",
       "1151       CALLAO     CALLAO                  VENTANILLA  NaN   NaN   NaN\n",
       "1152       CALLAO     CALLAO                      CALLAO  NaN   NaN   NaN\n",
       "1153       CALLAO     CALLAO                  VENTANILLA  NaN   NaN   NaN\n",
       "1154       CALLAO     CALLAO                  VENTANILLA  NaN   NaN   NaN\n",
       "1155       CALLAO     CALLAO                     MI PERU  NaN   NaN   NaN\n",
       "1156       CALLAO     CALLAO                      CALLAO  NaN   NaN   NaN"
      ]
     },
     "execution_count": 19,
     "metadata": {},
     "output_type": "execute_result"
    }
   ],
   "source": [
    "# ¿Which are those 26?\n",
    "impor = [\"departamento\", \"provincia\", \"distrito\",\"depa\", \"provi\", \"distr\"]\n",
    "comi2.loc[comi2._merge == \"left_only\", impor]"
   ]
  },
  {
   "cell_type": "markdown",
   "id": "14a289c0",
   "metadata": {},
   "source": [
    "Therefore, values on both comi and ubigeo must be fixed for the merge to work.\n",
    "\n",
    "In comi: \n",
    "1. \"NUEVO CAJAMARCA\" should be \"NUEVA CAJAMARCA\" (distrito en Rioja, San Martín).\n",
    "2. \"NAZCA\" should be \"NASCA\" (así está en ubigeo) (distrito y provincia en Ica).\n",
    "3. \"SANTA CRUZ DE TOLED\" should be \"SANTA CRUZ DE TOLED\" (\"O\" is missing) (distrito en Contumaza, Cajamarca).\n",
    "\n",
    "In ubigeo:\n",
    "1. \"PROV. CONST. DEL CALLAO\" should be \"CALLAO\" (provincia en el departamento Callao)"
   ]
  },
  {
   "cell_type": "code",
   "execution_count": 20,
   "id": "9c49da40",
   "metadata": {},
   "outputs": [],
   "source": [
    "# In comi\n",
    "comi.loc[comi.distrito  == \"NUEVO CAJAMARCA\", \"distrito\"] = \"NUEVA CAJAMARCA\"\n",
    "comi.loc[comi.distrito  == \"NAZCA\", \"distrito\"] = \"NASCA\"\n",
    "comi.loc[comi.provincia == \"NAZCA\", \"provincia\"] = \"NASCA\"\n",
    "comi.loc[comi.distrito  == \"SANTA CRUZ DE TOLED\", \"distrito\"] = \"SANTA CRUZ DE TOLEDO\""
   ]
  },
  {
   "cell_type": "code",
   "execution_count": 21,
   "id": "20798f1d",
   "metadata": {
    "scrolled": true
   },
   "outputs": [
    {
     "data": {
      "text/html": [
       "<div>\n",
       "<style scoped>\n",
       "    .dataframe tbody tr th:only-of-type {\n",
       "        vertical-align: middle;\n",
       "    }\n",
       "\n",
       "    .dataframe tbody tr th {\n",
       "        vertical-align: top;\n",
       "    }\n",
       "\n",
       "    .dataframe thead th {\n",
       "        text-align: right;\n",
       "    }\n",
       "</style>\n",
       "<table border=\"1\" class=\"dataframe\">\n",
       "  <thead>\n",
       "    <tr style=\"text-align: right;\">\n",
       "      <th></th>\n",
       "      <th>depa</th>\n",
       "      <th>CODREG</th>\n",
       "      <th>provi</th>\n",
       "      <th>CODPRO</th>\n",
       "      <th>distr</th>\n",
       "      <th>CODDIS</th>\n",
       "      <th>UBIGEO</th>\n",
       "    </tr>\n",
       "  </thead>\n",
       "  <tbody>\n",
       "    <tr>\n",
       "      <th>689</th>\n",
       "      <td>CALLAO</td>\n",
       "      <td>07</td>\n",
       "      <td>PROV. CONST. DEL CALLAO</td>\n",
       "      <td>01</td>\n",
       "      <td>CALLAO</td>\n",
       "      <td>01</td>\n",
       "      <td>070101</td>\n",
       "    </tr>\n",
       "    <tr>\n",
       "      <th>690</th>\n",
       "      <td>CALLAO</td>\n",
       "      <td>07</td>\n",
       "      <td>PROV. CONST. DEL CALLAO</td>\n",
       "      <td>01</td>\n",
       "      <td>BELLAVISTA</td>\n",
       "      <td>02</td>\n",
       "      <td>070102</td>\n",
       "    </tr>\n",
       "    <tr>\n",
       "      <th>691</th>\n",
       "      <td>CALLAO</td>\n",
       "      <td>07</td>\n",
       "      <td>PROV. CONST. DEL CALLAO</td>\n",
       "      <td>01</td>\n",
       "      <td>CARMEN DE LA LEGUA REYNOSO</td>\n",
       "      <td>03</td>\n",
       "      <td>070103</td>\n",
       "    </tr>\n",
       "    <tr>\n",
       "      <th>692</th>\n",
       "      <td>CALLAO</td>\n",
       "      <td>07</td>\n",
       "      <td>PROV. CONST. DEL CALLAO</td>\n",
       "      <td>01</td>\n",
       "      <td>LA PERLA</td>\n",
       "      <td>04</td>\n",
       "      <td>070104</td>\n",
       "    </tr>\n",
       "    <tr>\n",
       "      <th>693</th>\n",
       "      <td>CALLAO</td>\n",
       "      <td>07</td>\n",
       "      <td>PROV. CONST. DEL CALLAO</td>\n",
       "      <td>01</td>\n",
       "      <td>LA PUNTA</td>\n",
       "      <td>05</td>\n",
       "      <td>070105</td>\n",
       "    </tr>\n",
       "    <tr>\n",
       "      <th>694</th>\n",
       "      <td>CALLAO</td>\n",
       "      <td>07</td>\n",
       "      <td>PROV. CONST. DEL CALLAO</td>\n",
       "      <td>01</td>\n",
       "      <td>VENTANILLA</td>\n",
       "      <td>06</td>\n",
       "      <td>070106</td>\n",
       "    </tr>\n",
       "    <tr>\n",
       "      <th>695</th>\n",
       "      <td>CALLAO</td>\n",
       "      <td>07</td>\n",
       "      <td>PROV. CONST. DEL CALLAO</td>\n",
       "      <td>01</td>\n",
       "      <td>MI PERU</td>\n",
       "      <td>07</td>\n",
       "      <td>070107</td>\n",
       "    </tr>\n",
       "  </tbody>\n",
       "</table>\n",
       "</div>"
      ],
      "text/plain": [
       "       depa CODREG                    provi CODPRO  \\\n",
       "689  CALLAO     07  PROV. CONST. DEL CALLAO     01   \n",
       "690  CALLAO     07  PROV. CONST. DEL CALLAO     01   \n",
       "691  CALLAO     07  PROV. CONST. DEL CALLAO     01   \n",
       "692  CALLAO     07  PROV. CONST. DEL CALLAO     01   \n",
       "693  CALLAO     07  PROV. CONST. DEL CALLAO     01   \n",
       "694  CALLAO     07  PROV. CONST. DEL CALLAO     01   \n",
       "695  CALLAO     07  PROV. CONST. DEL CALLAO     01   \n",
       "\n",
       "                          distr CODDIS  UBIGEO  \n",
       "689                      CALLAO     01  070101  \n",
       "690                  BELLAVISTA     02  070102  \n",
       "691  CARMEN DE LA LEGUA REYNOSO     03  070103  \n",
       "692                    LA PERLA     04  070104  \n",
       "693                    LA PUNTA     05  070105  \n",
       "694                  VENTANILLA     06  070106  \n",
       "695                     MI PERU     07  070107  "
      ]
     },
     "execution_count": 21,
     "metadata": {},
     "output_type": "execute_result"
    }
   ],
   "source": [
    "# In ubigeo\n",
    "ubigeo[ubigeo[\"provi\"]==\"PROV. CONST. DEL CALLAO\"]"
   ]
  },
  {
   "cell_type": "code",
   "execution_count": 22,
   "id": "76e82ea4",
   "metadata": {},
   "outputs": [],
   "source": [
    "# Replacing\n",
    "ubigeo.loc[ubigeo.provi == \"PROV. CONST. DEL CALLAO\", \"provi\"] = \"CALLAO\""
   ]
  },
  {
   "cell_type": "code",
   "execution_count": 23,
   "id": "8c42b664",
   "metadata": {},
   "outputs": [],
   "source": [
    "# A new merge\n",
    "comi2 = pd.merge(comi, ubigeo,  how=\"left\", left_on=['departamento','provincia', \"distrito\"], \n",
    "                 right_on = ['depa','provi', \"distr\"], validate = \"m:1\", indicator = True)"
   ]
  },
  {
   "cell_type": "code",
   "execution_count": 24,
   "id": "f6df9bb1",
   "metadata": {
    "scrolled": false
   },
   "outputs": [
    {
     "data": {
      "text/plain": [
       "both          1318\n",
       "left_only        0\n",
       "right_only       0\n",
       "Name: _merge, dtype: int64"
      ]
     },
     "execution_count": 24,
     "metadata": {},
     "output_type": "execute_result"
    }
   ],
   "source": [
    "comi2[\"_merge\"].value_counts() # OK"
   ]
  },
  {
   "cell_type": "code",
   "execution_count": 25,
   "id": "60354fca",
   "metadata": {},
   "outputs": [],
   "source": [
    "# Replacing the original database (comi) with the auxiliary (comi2)\n",
    "comi = comi2"
   ]
  },
  {
   "cell_type": "markdown",
   "id": "1923d5fb",
   "metadata": {},
   "source": [
    "### Geolocation of the data\n",
    "Starting with the GPS data because contains latitude and longitude."
   ]
  },
  {
   "cell_type": "markdown",
   "id": "acf3622c",
   "metadata": {},
   "source": [
    "Identifying the rare data in GPS"
   ]
  },
  {
   "cell_type": "code",
   "execution_count": 26,
   "id": "04edce85",
   "metadata": {
    "scrolled": true
   },
   "outputs": [
    {
     "data": {
      "text/html": [
       "<div>\n",
       "<style scoped>\n",
       "    .dataframe tbody tr th:only-of-type {\n",
       "        vertical-align: middle;\n",
       "    }\n",
       "\n",
       "    .dataframe tbody tr th {\n",
       "        vertical-align: top;\n",
       "    }\n",
       "\n",
       "    .dataframe thead th {\n",
       "        text-align: right;\n",
       "    }\n",
       "</style>\n",
       "<table border=\"1\" class=\"dataframe\">\n",
       "  <thead>\n",
       "    <tr style=\"text-align: right;\">\n",
       "      <th></th>\n",
       "      <th>cod_inei</th>\n",
       "      <th>cod_pnp</th>\n",
       "      <th>departamento</th>\n",
       "      <th>provincia</th>\n",
       "      <th>distrito</th>\n",
       "      <th>gps</th>\n",
       "      <th>macro_pnp</th>\n",
       "      <th>reg_pnp</th>\n",
       "      <th>divpol_divopus</th>\n",
       "      <th>nombre</th>\n",
       "      <th>...</th>\n",
       "      <th>Unnamed: 15</th>\n",
       "      <th>Unnamed: 16</th>\n",
       "      <th>depa</th>\n",
       "      <th>CODREG</th>\n",
       "      <th>provi</th>\n",
       "      <th>CODPRO</th>\n",
       "      <th>distr</th>\n",
       "      <th>CODDIS</th>\n",
       "      <th>UBIGEO</th>\n",
       "      <th>_merge</th>\n",
       "    </tr>\n",
       "  </thead>\n",
       "  <tbody>\n",
       "    <tr>\n",
       "      <th>773</th>\n",
       "      <td>NaN</td>\n",
       "      <td>1725</td>\n",
       "      <td>LORETO</td>\n",
       "      <td>UCAYALI</td>\n",
       "      <td>PAMPA HERMOSA</td>\n",
       "      <td>-7°11'44.30,-75°17'38.60</td>\n",
       "      <td>LORETO</td>\n",
       "      <td>LORETO</td>\n",
       "      <td>DIVOPUS LORETO</td>\n",
       "      <td>CPNP PAMPA HERMOSA</td>\n",
       "      <td>...</td>\n",
       "      <td>NaN</td>\n",
       "      <td>NaN</td>\n",
       "      <td>LORETO</td>\n",
       "      <td>16</td>\n",
       "      <td>UCAYALI</td>\n",
       "      <td>06</td>\n",
       "      <td>PAMPA HERMOSA</td>\n",
       "      <td>04</td>\n",
       "      <td>160604</td>\n",
       "      <td>both</td>\n",
       "    </tr>\n",
       "    <tr>\n",
       "      <th>775</th>\n",
       "      <td>NaN</td>\n",
       "      <td>7905</td>\n",
       "      <td>LORETO</td>\n",
       "      <td>UCAYALI</td>\n",
       "      <td>VARGAS GUERRA</td>\n",
       "      <td>6°54'40.9\"S 75°09'26.0\"W</td>\n",
       "      <td>LORETO</td>\n",
       "      <td>LORETO</td>\n",
       "      <td>DIVOPUS LORETO</td>\n",
       "      <td>CPNP ORELLANA</td>\n",
       "      <td>...</td>\n",
       "      <td>NaN</td>\n",
       "      <td>NaN</td>\n",
       "      <td>LORETO</td>\n",
       "      <td>16</td>\n",
       "      <td>UCAYALI</td>\n",
       "      <td>06</td>\n",
       "      <td>VARGAS GUERRA</td>\n",
       "      <td>06</td>\n",
       "      <td>160606</td>\n",
       "      <td>both</td>\n",
       "    </tr>\n",
       "    <tr>\n",
       "      <th>782</th>\n",
       "      <td>NaN</td>\n",
       "      <td>3671</td>\n",
       "      <td>MADRE DE DIOS</td>\n",
       "      <td>TAMBOPATA</td>\n",
       "      <td>LAS PIEDRAS</td>\n",
       "      <td>-11°56'00.2\", -69°07'12.6\"</td>\n",
       "      <td>MADRE DE DIOS</td>\n",
       "      <td>MADRE DE DIOS</td>\n",
       "      <td>DIVOPUS MADRE DE DIOS</td>\n",
       "      <td>CPNP MAVILA</td>\n",
       "      <td>...</td>\n",
       "      <td>NaN</td>\n",
       "      <td>NaN</td>\n",
       "      <td>MADRE DE DIOS</td>\n",
       "      <td>17</td>\n",
       "      <td>TAMBOPATA</td>\n",
       "      <td>01</td>\n",
       "      <td>LAS PIEDRAS</td>\n",
       "      <td>03</td>\n",
       "      <td>170103</td>\n",
       "      <td>both</td>\n",
       "    </tr>\n",
       "    <tr>\n",
       "      <th>786</th>\n",
       "      <td>NaN</td>\n",
       "      <td>3682</td>\n",
       "      <td>MADRE DE DIOS</td>\n",
       "      <td>MANU</td>\n",
       "      <td>MADRE DE DIOS</td>\n",
       "      <td>12°47'23.2\"S 70°31'19.7\"W</td>\n",
       "      <td>MADRE DE DIOS</td>\n",
       "      <td>MADRE DE DIOS</td>\n",
       "      <td>DIVOPUS MADRE DE DIOS</td>\n",
       "      <td>CPNP DELTA 1</td>\n",
       "      <td>...</td>\n",
       "      <td>NaN</td>\n",
       "      <td>NaN</td>\n",
       "      <td>MADRE DE DIOS</td>\n",
       "      <td>17</td>\n",
       "      <td>MANU</td>\n",
       "      <td>02</td>\n",
       "      <td>MADRE DE DIOS</td>\n",
       "      <td>03</td>\n",
       "      <td>170203</td>\n",
       "      <td>both</td>\n",
       "    </tr>\n",
       "    <tr>\n",
       "      <th>787</th>\n",
       "      <td>NaN</td>\n",
       "      <td>3683</td>\n",
       "      <td>MADRE DE DIOS</td>\n",
       "      <td>TAMBOPATA</td>\n",
       "      <td>INAMBARI</td>\n",
       "      <td>-12.926243°,-70.302720°</td>\n",
       "      <td>MADRE DE DIOS</td>\n",
       "      <td>MADRE DE DIOS</td>\n",
       "      <td>DIVOPUS MADRE DE DIOS</td>\n",
       "      <td>CPNP SANTA ROSA</td>\n",
       "      <td>...</td>\n",
       "      <td>NaN</td>\n",
       "      <td>NaN</td>\n",
       "      <td>MADRE DE DIOS</td>\n",
       "      <td>17</td>\n",
       "      <td>TAMBOPATA</td>\n",
       "      <td>01</td>\n",
       "      <td>INAMBARI</td>\n",
       "      <td>02</td>\n",
       "      <td>170102</td>\n",
       "      <td>both</td>\n",
       "    </tr>\n",
       "    <tr>\n",
       "      <th>880</th>\n",
       "      <td>NaN</td>\n",
       "      <td>7925</td>\n",
       "      <td>UCAYALI</td>\n",
       "      <td>ATALAYA</td>\n",
       "      <td>SEPAHUA</td>\n",
       "      <td>11°08'41.4\"S 73°02'41.5\"W</td>\n",
       "      <td>PUERTO INCA</td>\n",
       "      <td>PUERTO INCA</td>\n",
       "      <td>DIVOPUS PI</td>\n",
       "      <td>CPNP SEPAHUA</td>\n",
       "      <td>...</td>\n",
       "      <td>NaN</td>\n",
       "      <td>NaN</td>\n",
       "      <td>UCAYALI</td>\n",
       "      <td>25</td>\n",
       "      <td>ATALAYA</td>\n",
       "      <td>02</td>\n",
       "      <td>SEPAHUA</td>\n",
       "      <td>02</td>\n",
       "      <td>250202</td>\n",
       "      <td>both</td>\n",
       "    </tr>\n",
       "    <tr>\n",
       "      <th>958</th>\n",
       "      <td>NaN</td>\n",
       "      <td>1444</td>\n",
       "      <td>AMAZONAS</td>\n",
       "      <td>BONGARA</td>\n",
       "      <td>CHURUJA</td>\n",
       "      <td>-6.020006°,-77.952163°</td>\n",
       "      <td>SAN MARTIN</td>\n",
       "      <td>SAN MARTIN</td>\n",
       "      <td>DIVOPUS AMAZONAS</td>\n",
       "      <td>CPNP CHURUJA</td>\n",
       "      <td>...</td>\n",
       "      <td>NaN</td>\n",
       "      <td>NaN</td>\n",
       "      <td>AMAZONAS</td>\n",
       "      <td>01</td>\n",
       "      <td>BONGARA</td>\n",
       "      <td>03</td>\n",
       "      <td>CHURUJA</td>\n",
       "      <td>03</td>\n",
       "      <td>010303</td>\n",
       "      <td>both</td>\n",
       "    </tr>\n",
       "    <tr>\n",
       "      <th>1015</th>\n",
       "      <td>NaN</td>\n",
       "      <td>1393</td>\n",
       "      <td>SAN MARTIN</td>\n",
       "      <td>TOCACHE</td>\n",
       "      <td>UCHIZA</td>\n",
       "      <td>-8°20'34.00,-76°23'14.20</td>\n",
       "      <td>SAN MARTIN</td>\n",
       "      <td>SAN MARTIN</td>\n",
       "      <td>DIVOPUS TARAPOTO</td>\n",
       "      <td>CPNP SANTA LUCIA</td>\n",
       "      <td>...</td>\n",
       "      <td>NaN</td>\n",
       "      <td>NaN</td>\n",
       "      <td>SAN MARTIN</td>\n",
       "      <td>22</td>\n",
       "      <td>TOCACHE</td>\n",
       "      <td>10</td>\n",
       "      <td>UCHIZA</td>\n",
       "      <td>05</td>\n",
       "      <td>221005</td>\n",
       "      <td>both</td>\n",
       "    </tr>\n",
       "    <tr>\n",
       "      <th>1109</th>\n",
       "      <td>NaN</td>\n",
       "      <td>7900</td>\n",
       "      <td>UCAYALI</td>\n",
       "      <td>CORONEL PORTILLO</td>\n",
       "      <td>MASISEA</td>\n",
       "      <td>-8.605750°,-74.305806°</td>\n",
       "      <td>UCAYALI</td>\n",
       "      <td>UCAYALI</td>\n",
       "      <td>DIVOPUS UCAYALI</td>\n",
       "      <td>CPNP MASISEA</td>\n",
       "      <td>...</td>\n",
       "      <td>NaN</td>\n",
       "      <td>NaN</td>\n",
       "      <td>UCAYALI</td>\n",
       "      <td>25</td>\n",
       "      <td>CORONEL PORTILLO</td>\n",
       "      <td>01</td>\n",
       "      <td>MASISEA</td>\n",
       "      <td>04</td>\n",
       "      <td>250104</td>\n",
       "      <td>both</td>\n",
       "    </tr>\n",
       "  </tbody>\n",
       "</table>\n",
       "<p>9 rows × 25 columns</p>\n",
       "</div>"
      ],
      "text/plain": [
       "     cod_inei  cod_pnp   departamento         provincia       distrito  \\\n",
       "773       NaN     1725         LORETO           UCAYALI  PAMPA HERMOSA   \n",
       "775       NaN     7905         LORETO           UCAYALI  VARGAS GUERRA   \n",
       "782       NaN     3671  MADRE DE DIOS         TAMBOPATA    LAS PIEDRAS   \n",
       "786       NaN     3682  MADRE DE DIOS              MANU  MADRE DE DIOS   \n",
       "787       NaN     3683  MADRE DE DIOS         TAMBOPATA       INAMBARI   \n",
       "880       NaN     7925        UCAYALI           ATALAYA        SEPAHUA   \n",
       "958       NaN     1444       AMAZONAS           BONGARA        CHURUJA   \n",
       "1015      NaN     1393     SAN MARTIN           TOCACHE         UCHIZA   \n",
       "1109      NaN     7900        UCAYALI  CORONEL PORTILLO        MASISEA   \n",
       "\n",
       "                             gps      macro_pnp        reg_pnp  \\\n",
       "773     -7°11'44.30,-75°17'38.60         LORETO         LORETO   \n",
       "775     6°54'40.9\"S 75°09'26.0\"W         LORETO         LORETO   \n",
       "782   -11°56'00.2\", -69°07'12.6\"  MADRE DE DIOS  MADRE DE DIOS   \n",
       "786    12°47'23.2\"S 70°31'19.7\"W  MADRE DE DIOS  MADRE DE DIOS   \n",
       "787      -12.926243°,-70.302720°  MADRE DE DIOS  MADRE DE DIOS   \n",
       "880    11°08'41.4\"S 73°02'41.5\"W    PUERTO INCA    PUERTO INCA   \n",
       "958       -6.020006°,-77.952163°     SAN MARTIN     SAN MARTIN   \n",
       "1015    -8°20'34.00,-76°23'14.20     SAN MARTIN     SAN MARTIN   \n",
       "1109      -8.605750°,-74.305806°        UCAYALI        UCAYALI   \n",
       "\n",
       "             divpol_divopus              nombre  ... Unnamed: 15  Unnamed: 16  \\\n",
       "773          DIVOPUS LORETO  CPNP PAMPA HERMOSA  ...         NaN          NaN   \n",
       "775          DIVOPUS LORETO       CPNP ORELLANA  ...         NaN          NaN   \n",
       "782   DIVOPUS MADRE DE DIOS         CPNP MAVILA  ...         NaN          NaN   \n",
       "786   DIVOPUS MADRE DE DIOS        CPNP DELTA 1  ...         NaN          NaN   \n",
       "787   DIVOPUS MADRE DE DIOS     CPNP SANTA ROSA  ...         NaN          NaN   \n",
       "880              DIVOPUS PI        CPNP SEPAHUA  ...         NaN          NaN   \n",
       "958        DIVOPUS AMAZONAS        CPNP CHURUJA  ...         NaN          NaN   \n",
       "1015       DIVOPUS TARAPOTO    CPNP SANTA LUCIA  ...         NaN          NaN   \n",
       "1109        DIVOPUS UCAYALI        CPNP MASISEA  ...         NaN          NaN   \n",
       "\n",
       "               depa  CODREG             provi  CODPRO          distr CODDIS  \\\n",
       "773          LORETO      16           UCAYALI      06  PAMPA HERMOSA     04   \n",
       "775          LORETO      16           UCAYALI      06  VARGAS GUERRA     06   \n",
       "782   MADRE DE DIOS      17         TAMBOPATA      01    LAS PIEDRAS     03   \n",
       "786   MADRE DE DIOS      17              MANU      02  MADRE DE DIOS     03   \n",
       "787   MADRE DE DIOS      17         TAMBOPATA      01       INAMBARI     02   \n",
       "880         UCAYALI      25           ATALAYA      02        SEPAHUA     02   \n",
       "958        AMAZONAS      01           BONGARA      03        CHURUJA     03   \n",
       "1015     SAN MARTIN      22           TOCACHE      10         UCHIZA     05   \n",
       "1109        UCAYALI      25  CORONEL PORTILLO      01        MASISEA     04   \n",
       "\n",
       "      UBIGEO _merge  \n",
       "773   160604   both  \n",
       "775   160606   both  \n",
       "782   170103   both  \n",
       "786   170203   both  \n",
       "787   170102   both  \n",
       "880   250202   both  \n",
       "958   010303   both  \n",
       "1015  221005   both  \n",
       "1109  250104   both  \n",
       "\n",
       "[9 rows x 25 columns]"
      ]
     },
     "execution_count": 26,
     "metadata": {},
     "output_type": "execute_result"
    }
   ],
   "source": [
    "# A regexp to identify \"weird\" values\n",
    "comi[comi[\"gps\"].str.contains(\"[0-9]'|[0-9]°\")==True]\n",
    "# just 9 values\n",
    "# Careful: they don't have cod_inei."
   ]
  },
  {
   "cell_type": "code",
   "execution_count": 27,
   "id": "29400a2a",
   "metadata": {},
   "outputs": [
    {
     "data": {
      "text/plain": [
       "2      -9.52707907,-77.53541276\n",
       "773    -7°11'44.30,-75°17'38.60\n",
       "800    -5.34800031,-80.71298264\n",
       "Name: gps, dtype: object"
      ]
     },
     "execution_count": 27,
     "metadata": {},
     "output_type": "execute_result"
    }
   ],
   "source": [
    "# Some of the \"weirds\"\n",
    "comi[\"gps\"][[2,773,800]]"
   ]
  },
  {
   "cell_type": "markdown",
   "id": "e2eedb43",
   "metadata": {},
   "source": [
    "After looking through each of them, they will be replaced with the right values"
   ]
  },
  {
   "cell_type": "code",
   "execution_count": 28,
   "id": "13531490",
   "metadata": {},
   "outputs": [],
   "source": [
    "# Replacing\n",
    "\n",
    "dictio = {773 : \"-7.1956389,-75.29405555555556\" ,\n",
    "          775 : \"-6.9113611,-75.15722222222223\" ,\n",
    "          782 : \"-11.9333889,-69.12016666666666\" ,\n",
    "          786 : \"-12.7897778,-70.52213888888889\" ,\n",
    "          787 : \"-12.926243,-70.302720\" ,\n",
    "          880 : \"-11.1448333,-74.0448611111111\" ,\n",
    "          958 : \"-6.020006,-77.952163\",\n",
    "          1015 : \"-8.342778,-76.38728\" ,\n",
    "          1109 : \"-8.605750,-74.305806\"\n",
    "         }\n",
    "\n",
    "for key in dictio:\n",
    "    comi.at[key, \"gps\"] = dictio[key]"
   ]
  },
  {
   "cell_type": "code",
   "execution_count": 29,
   "id": "c58b9dc7",
   "metadata": {},
   "outputs": [
    {
     "data": {
      "text/html": [
       "<div>\n",
       "<style scoped>\n",
       "    .dataframe tbody tr th:only-of-type {\n",
       "        vertical-align: middle;\n",
       "    }\n",
       "\n",
       "    .dataframe tbody tr th {\n",
       "        vertical-align: top;\n",
       "    }\n",
       "\n",
       "    .dataframe thead th {\n",
       "        text-align: right;\n",
       "    }\n",
       "</style>\n",
       "<table border=\"1\" class=\"dataframe\">\n",
       "  <thead>\n",
       "    <tr style=\"text-align: right;\">\n",
       "      <th></th>\n",
       "      <th>cod_inei</th>\n",
       "      <th>cod_pnp</th>\n",
       "      <th>departamento</th>\n",
       "      <th>provincia</th>\n",
       "      <th>distrito</th>\n",
       "      <th>gps</th>\n",
       "      <th>macro_pnp</th>\n",
       "      <th>reg_pnp</th>\n",
       "      <th>divpol_divopus</th>\n",
       "      <th>nombre</th>\n",
       "      <th>...</th>\n",
       "      <th>Unnamed: 15</th>\n",
       "      <th>Unnamed: 16</th>\n",
       "      <th>depa</th>\n",
       "      <th>CODREG</th>\n",
       "      <th>provi</th>\n",
       "      <th>CODPRO</th>\n",
       "      <th>distr</th>\n",
       "      <th>CODDIS</th>\n",
       "      <th>UBIGEO</th>\n",
       "      <th>_merge</th>\n",
       "    </tr>\n",
       "  </thead>\n",
       "  <tbody>\n",
       "  </tbody>\n",
       "</table>\n",
       "<p>0 rows × 25 columns</p>\n",
       "</div>"
      ],
      "text/plain": [
       "Empty DataFrame\n",
       "Columns: [cod_inei, cod_pnp, departamento, provincia, distrito, gps, macro_pnp, reg_pnp, divpol_divopus, nombre, tipo, rural, sectorial, zonal, Unnamed: 14, Unnamed: 15, Unnamed: 16, depa, CODREG, provi, CODPRO, distr, CODDIS, UBIGEO, _merge]\n",
       "Index: []\n",
       "\n",
       "[0 rows x 25 columns]"
      ]
     },
     "execution_count": 29,
     "metadata": {},
     "output_type": "execute_result"
    }
   ],
   "source": [
    "# Verifying\n",
    "comi[\"gps\"][[773,775]]\n",
    "comi[comi[\"gps\"].str.contains(\"[0-9]'|[0-9]°\")==True]"
   ]
  },
  {
   "cell_type": "code",
   "execution_count": 30,
   "id": "59e684a9",
   "metadata": {},
   "outputs": [
    {
     "data": {
      "text/html": [
       "<div>\n",
       "<style scoped>\n",
       "    .dataframe tbody tr th:only-of-type {\n",
       "        vertical-align: middle;\n",
       "    }\n",
       "\n",
       "    .dataframe tbody tr th {\n",
       "        vertical-align: top;\n",
       "    }\n",
       "\n",
       "    .dataframe thead th {\n",
       "        text-align: right;\n",
       "    }\n",
       "</style>\n",
       "<table border=\"1\" class=\"dataframe\">\n",
       "  <thead>\n",
       "    <tr style=\"text-align: right;\">\n",
       "      <th></th>\n",
       "      <th>cod_inei</th>\n",
       "      <th>cod_pnp</th>\n",
       "      <th>departamento</th>\n",
       "      <th>provincia</th>\n",
       "      <th>distrito</th>\n",
       "      <th>gps</th>\n",
       "      <th>macro_pnp</th>\n",
       "      <th>reg_pnp</th>\n",
       "      <th>divpol_divopus</th>\n",
       "      <th>nombre</th>\n",
       "      <th>...</th>\n",
       "      <th>Unnamed: 15</th>\n",
       "      <th>Unnamed: 16</th>\n",
       "      <th>depa</th>\n",
       "      <th>CODREG</th>\n",
       "      <th>provi</th>\n",
       "      <th>CODPRO</th>\n",
       "      <th>distr</th>\n",
       "      <th>CODDIS</th>\n",
       "      <th>UBIGEO</th>\n",
       "      <th>_merge</th>\n",
       "    </tr>\n",
       "  </thead>\n",
       "  <tbody>\n",
       "  </tbody>\n",
       "</table>\n",
       "<p>0 rows × 25 columns</p>\n",
       "</div>"
      ],
      "text/plain": [
       "Empty DataFrame\n",
       "Columns: [cod_inei, cod_pnp, departamento, provincia, distrito, gps, macro_pnp, reg_pnp, divpol_divopus, nombre, tipo, rural, sectorial, zonal, Unnamed: 14, Unnamed: 15, Unnamed: 16, depa, CODREG, provi, CODPRO, distr, CODDIS, UBIGEO, _merge]\n",
       "Index: []\n",
       "\n",
       "[0 rows x 25 columns]"
      ]
     },
     "execution_count": 30,
     "metadata": {},
     "output_type": "execute_result"
    }
   ],
   "source": [
    "# Looking if there's a valus with spaces\n",
    "comi[comi[\"gps\"].str.contains(\"\\s\")==True]"
   ]
  },
  {
   "cell_type": "markdown",
   "id": "1f79a2e9",
   "metadata": {},
   "source": [
    "After cleaning gps, it remains to separate long and lat into two different variables. "
   ]
  },
  {
   "cell_type": "code",
   "execution_count": 31,
   "id": "213ea421",
   "metadata": {},
   "outputs": [],
   "source": [
    "# Spliting gps and creating an auxiliary dataframe\n",
    "new = comi[\"gps\"].str.split(\",\", n = 1, expand = True)"
   ]
  },
  {
   "cell_type": "code",
   "execution_count": 32,
   "id": "8e03dbae",
   "metadata": {},
   "outputs": [],
   "source": [
    "# Adding lat and long to comi\n",
    "comi[\"lat\"] = new[0]\n",
    "comi[\"long\"] = new[1]"
   ]
  },
  {
   "cell_type": "markdown",
   "id": "20ac2e9c",
   "metadata": {},
   "source": [
    "## Plotting the police stations on the map with *folium*"
   ]
  },
  {
   "cell_type": "markdown",
   "id": "bcdc2b93",
   "metadata": {},
   "source": [
    "Creating the map centered in Peru"
   ]
  },
  {
   "cell_type": "code",
   "execution_count": 33,
   "id": "a3926da9",
   "metadata": {},
   "outputs": [],
   "source": [
    "# Map of Peru\n",
    "m = folium.Map(location=[-12.0453, -77.0311], zoom_start=5)"
   ]
  },
  {
   "cell_type": "markdown",
   "id": "9c4b9569",
   "metadata": {},
   "source": [
    "Plotting lat and long using a loop and CircleMarker function from folium.\n",
    "**NOTE**: markers like CircleMarker usually accept tuples."
   ]
  },
  {
   "cell_type": "code",
   "execution_count": 34,
   "id": "fcd4f18e",
   "metadata": {},
   "outputs": [],
   "source": [
    "# Looping with tuples\n",
    "for index, row in comi.iterrows():\n",
    "    folium.CircleMarker(\n",
    "        location = (row[\"lat\"], row[\"long\"]) ,\n",
    "        popup = row[\"nombre\"],\n",
    "        radius = 5,\n",
    "        color = \"blue\",\n",
    "        fill = True,\n",
    "        fill_color = \"#3186cc\",\n",
    "        fill_opacity = 0.7\n",
    "    ).add_to(m)"
   ]
  },
  {
   "cell_type": "code",
   "execution_count": 35,
   "id": "e5a8c7be",
   "metadata": {},
   "outputs": [],
   "source": [
    "m.save(output+\"\\police_stations.html\")\n",
    "#m"
   ]
  },
  {
   "cell_type": "markdown",
   "id": "af99dc8c",
   "metadata": {},
   "source": [
    "## Adding features to police stations with Cenacom (2017)"
   ]
  },
  {
   "cell_type": "markdown",
   "id": "ab9994f0",
   "metadata": {},
   "source": [
    "Opening Cenacom data.\n",
    "There are 1,495 police stations in Cenacom. It may contain special units (unidades especiales-UE)."
   ]
  },
  {
   "cell_type": "code",
   "execution_count": 36,
   "id": "5e830bee",
   "metadata": {
    "scrolled": true
   },
   "outputs": [
    {
     "data": {
      "text/html": [
       "<div>\n",
       "<style scoped>\n",
       "    .dataframe tbody tr th:only-of-type {\n",
       "        vertical-align: middle;\n",
       "    }\n",
       "\n",
       "    .dataframe tbody tr th {\n",
       "        vertical-align: top;\n",
       "    }\n",
       "\n",
       "    .dataframe thead th {\n",
       "        text-align: right;\n",
       "    }\n",
       "</style>\n",
       "<table border=\"1\" class=\"dataframe\">\n",
       "  <thead>\n",
       "    <tr style=\"text-align: right;\">\n",
       "      <th></th>\n",
       "      <th>ID_N</th>\n",
       "      <th>UBIGEO</th>\n",
       "      <th>CCDI</th>\n",
       "      <th>NOMBREDI</th>\n",
       "      <th>INF109</th>\n",
       "      <th>INF109A</th>\n",
       "      <th>INF109A_O</th>\n",
       "      <th>INF109B1</th>\n",
       "      <th>INF109C1_D1</th>\n",
       "      <th>INF109C1_D2</th>\n",
       "      <th>...</th>\n",
       "      <th>INF126_10</th>\n",
       "      <th>INF126_11</th>\n",
       "      <th>INF126_12</th>\n",
       "      <th>INF126_13</th>\n",
       "      <th>INF126_14</th>\n",
       "      <th>INF126_15</th>\n",
       "      <th>INF126_16</th>\n",
       "      <th>INF126_O</th>\n",
       "      <th>GPSLATITUD_INF</th>\n",
       "      <th>GPSLONGITUD_INF</th>\n",
       "    </tr>\n",
       "  </thead>\n",
       "  <tbody>\n",
       "    <tr>\n",
       "      <th>0</th>\n",
       "      <td>0001</td>\n",
       "      <td>100601</td>\n",
       "      <td>01</td>\n",
       "      <td>RUPA-RUPA</td>\n",
       "      <td>De 40001 - 80000 Hab</td>\n",
       "      <td>Distrital</td>\n",
       "      <td></td>\n",
       "      <td>NaN</td>\n",
       "      <td>NaN</td>\n",
       "      <td>NaN</td>\n",
       "      <td>...</td>\n",
       "      <td>NaN</td>\n",
       "      <td>NaN</td>\n",
       "      <td>NaN</td>\n",
       "      <td>NaN</td>\n",
       "      <td>NaN</td>\n",
       "      <td>NaN</td>\n",
       "      <td>NaN</td>\n",
       "      <td></td>\n",
       "      <td>-9.29806953</td>\n",
       "      <td>-76.00260836</td>\n",
       "    </tr>\n",
       "    <tr>\n",
       "      <th>1</th>\n",
       "      <td>0002</td>\n",
       "      <td>100606</td>\n",
       "      <td>06</td>\n",
       "      <td>MARIANO DAMASO BERAUN</td>\n",
       "      <td>De 5000 - 10000 Hab</td>\n",
       "      <td>Distrital</td>\n",
       "      <td></td>\n",
       "      <td>NaN</td>\n",
       "      <td>NaN</td>\n",
       "      <td>NaN</td>\n",
       "      <td>...</td>\n",
       "      <td>NaN</td>\n",
       "      <td>NaN</td>\n",
       "      <td>NaN</td>\n",
       "      <td>NaN</td>\n",
       "      <td>NaN</td>\n",
       "      <td>NaN</td>\n",
       "      <td>NaN</td>\n",
       "      <td></td>\n",
       "      <td>-9.49461342</td>\n",
       "      <td>-75.95306846</td>\n",
       "    </tr>\n",
       "    <tr>\n",
       "      <th>2</th>\n",
       "      <td>0003</td>\n",
       "      <td>100604</td>\n",
       "      <td>04</td>\n",
       "      <td>JOSE CRESPO Y CASTILLO</td>\n",
       "      <td>De 20001 - 40000 Hab</td>\n",
       "      <td>Distrital</td>\n",
       "      <td></td>\n",
       "      <td>NaN</td>\n",
       "      <td>NaN</td>\n",
       "      <td>NaN</td>\n",
       "      <td>...</td>\n",
       "      <td>NaN</td>\n",
       "      <td>NaN</td>\n",
       "      <td>NaN</td>\n",
       "      <td>NaN</td>\n",
       "      <td>NaN</td>\n",
       "      <td>NaN</td>\n",
       "      <td>NaN</td>\n",
       "      <td></td>\n",
       "      <td>-8.93140901</td>\n",
       "      <td>-76.11188986</td>\n",
       "    </tr>\n",
       "    <tr>\n",
       "      <th>3</th>\n",
       "      <td>0004</td>\n",
       "      <td>221001</td>\n",
       "      <td>01</td>\n",
       "      <td>TOCACHE</td>\n",
       "      <td>De 5000 - 10000 Hab</td>\n",
       "      <td>Provincial</td>\n",
       "      <td></td>\n",
       "      <td>NaN</td>\n",
       "      <td>NaN</td>\n",
       "      <td>NaN</td>\n",
       "      <td>...</td>\n",
       "      <td>NaN</td>\n",
       "      <td>NaN</td>\n",
       "      <td>NaN</td>\n",
       "      <td>NaN</td>\n",
       "      <td>NaN</td>\n",
       "      <td>NaN</td>\n",
       "      <td>NaN</td>\n",
       "      <td></td>\n",
       "      <td>-8.1884396</td>\n",
       "      <td>-76.51227108</td>\n",
       "    </tr>\n",
       "    <tr>\n",
       "      <th>4</th>\n",
       "      <td>0005</td>\n",
       "      <td>221002</td>\n",
       "      <td>02</td>\n",
       "      <td>NUEVO PROGRESO</td>\n",
       "      <td>De 5000 - 10000 Hab</td>\n",
       "      <td>Distrital</td>\n",
       "      <td></td>\n",
       "      <td>NaN</td>\n",
       "      <td>NaN</td>\n",
       "      <td>NaN</td>\n",
       "      <td>...</td>\n",
       "      <td>NaN</td>\n",
       "      <td>NaN</td>\n",
       "      <td>NaN</td>\n",
       "      <td>NaN</td>\n",
       "      <td>NaN</td>\n",
       "      <td>NaN</td>\n",
       "      <td>NaN</td>\n",
       "      <td></td>\n",
       "      <td>-8.45341229</td>\n",
       "      <td>-76.3241724</td>\n",
       "    </tr>\n",
       "    <tr>\n",
       "      <th>...</th>\n",
       "      <td>...</td>\n",
       "      <td>...</td>\n",
       "      <td>...</td>\n",
       "      <td>...</td>\n",
       "      <td>...</td>\n",
       "      <td>...</td>\n",
       "      <td>...</td>\n",
       "      <td>...</td>\n",
       "      <td>...</td>\n",
       "      <td>...</td>\n",
       "      <td>...</td>\n",
       "      <td>...</td>\n",
       "      <td>...</td>\n",
       "      <td>...</td>\n",
       "      <td>...</td>\n",
       "      <td>...</td>\n",
       "      <td>...</td>\n",
       "      <td>...</td>\n",
       "      <td>...</td>\n",
       "      <td>...</td>\n",
       "      <td>...</td>\n",
       "    </tr>\n",
       "    <tr>\n",
       "      <th>1490</th>\n",
       "      <td>9075</td>\n",
       "      <td>200101</td>\n",
       "      <td>01</td>\n",
       "      <td>PIURA</td>\n",
       "      <td>De 20001 - 40000 Hab</td>\n",
       "      <td>Regional</td>\n",
       "      <td></td>\n",
       "      <td>1.0</td>\n",
       "      <td>20.0</td>\n",
       "      <td>NaN</td>\n",
       "      <td>...</td>\n",
       "      <td>NaN</td>\n",
       "      <td>NaN</td>\n",
       "      <td>NaN</td>\n",
       "      <td>NaN</td>\n",
       "      <td>NaN</td>\n",
       "      <td>NaN</td>\n",
       "      <td>NaN</td>\n",
       "      <td></td>\n",
       "      <td>-5.19367149</td>\n",
       "      <td>-80.63275722</td>\n",
       "    </tr>\n",
       "    <tr>\n",
       "      <th>1491</th>\n",
       "      <td>9076</td>\n",
       "      <td>030109</td>\n",
       "      <td>09</td>\n",
       "      <td>TAMBURCO</td>\n",
       "      <td>Menos de 5000 Hab</td>\n",
       "      <td>Regional</td>\n",
       "      <td></td>\n",
       "      <td>1.0</td>\n",
       "      <td>3.0</td>\n",
       "      <td>NaN</td>\n",
       "      <td>...</td>\n",
       "      <td>NaN</td>\n",
       "      <td>NaN</td>\n",
       "      <td>NaN</td>\n",
       "      <td>NaN</td>\n",
       "      <td>NaN</td>\n",
       "      <td>NaN</td>\n",
       "      <td>NaN</td>\n",
       "      <td></td>\n",
       "      <td>-13.62197143</td>\n",
       "      <td>-72.87277891</td>\n",
       "    </tr>\n",
       "    <tr>\n",
       "      <th>1492</th>\n",
       "      <td>9077</td>\n",
       "      <td>180301</td>\n",
       "      <td>01</td>\n",
       "      <td>ILO</td>\n",
       "      <td>De 80001 a más Hab</td>\n",
       "      <td>Regional</td>\n",
       "      <td></td>\n",
       "      <td>1.0</td>\n",
       "      <td>18.0</td>\n",
       "      <td>NaN</td>\n",
       "      <td>...</td>\n",
       "      <td>NaN</td>\n",
       "      <td>NaN</td>\n",
       "      <td>NaN</td>\n",
       "      <td>NaN</td>\n",
       "      <td>NaN</td>\n",
       "      <td>NaN</td>\n",
       "      <td>NaN</td>\n",
       "      <td></td>\n",
       "      <td>-17.64451236</td>\n",
       "      <td>-71.34384742</td>\n",
       "    </tr>\n",
       "    <tr>\n",
       "      <th>1493</th>\n",
       "      <td>9078</td>\n",
       "      <td>100101</td>\n",
       "      <td>01</td>\n",
       "      <td>HUANUCO</td>\n",
       "      <td>De 20001 - 40000 Hab</td>\n",
       "      <td>Regional</td>\n",
       "      <td></td>\n",
       "      <td>1.0</td>\n",
       "      <td>10.0</td>\n",
       "      <td>NaN</td>\n",
       "      <td>...</td>\n",
       "      <td>NaN</td>\n",
       "      <td>NaN</td>\n",
       "      <td>NaN</td>\n",
       "      <td>NaN</td>\n",
       "      <td>NaN</td>\n",
       "      <td>NaN</td>\n",
       "      <td>NaN</td>\n",
       "      <td></td>\n",
       "      <td>-9.93362881</td>\n",
       "      <td>-76.23916271</td>\n",
       "    </tr>\n",
       "    <tr>\n",
       "      <th>1494</th>\n",
       "      <td>9079</td>\n",
       "      <td>021801</td>\n",
       "      <td>01</td>\n",
       "      <td>CHIMBOTE</td>\n",
       "      <td>De 5000 - 10000 Hab</td>\n",
       "      <td>Provincial</td>\n",
       "      <td></td>\n",
       "      <td>NaN</td>\n",
       "      <td>NaN</td>\n",
       "      <td>NaN</td>\n",
       "      <td>...</td>\n",
       "      <td>NaN</td>\n",
       "      <td>NaN</td>\n",
       "      <td>NaN</td>\n",
       "      <td>NaN</td>\n",
       "      <td>NaN</td>\n",
       "      <td>NaN</td>\n",
       "      <td>NaN</td>\n",
       "      <td></td>\n",
       "      <td>-9.0960169</td>\n",
       "      <td>-78.56854555</td>\n",
       "    </tr>\n",
       "  </tbody>\n",
       "</table>\n",
       "<p>1495 rows × 280 columns</p>\n",
       "</div>"
      ],
      "text/plain": [
       "      ID_N  UBIGEO CCDI                NOMBREDI                INF109  \\\n",
       "0     0001  100601   01               RUPA-RUPA  De 40001 - 80000 Hab   \n",
       "1     0002  100606   06   MARIANO DAMASO BERAUN   De 5000 - 10000 Hab   \n",
       "2     0003  100604   04  JOSE CRESPO Y CASTILLO  De 20001 - 40000 Hab   \n",
       "3     0004  221001   01                 TOCACHE   De 5000 - 10000 Hab   \n",
       "4     0005  221002   02          NUEVO PROGRESO   De 5000 - 10000 Hab   \n",
       "...    ...     ...  ...                     ...                   ...   \n",
       "1490  9075  200101   01                   PIURA  De 20001 - 40000 Hab   \n",
       "1491  9076  030109   09                TAMBURCO     Menos de 5000 Hab   \n",
       "1492  9077  180301   01                     ILO    De 80001 a más Hab   \n",
       "1493  9078  100101   01                 HUANUCO  De 20001 - 40000 Hab   \n",
       "1494  9079  021801   01                CHIMBOTE   De 5000 - 10000 Hab   \n",
       "\n",
       "         INF109A INF109A_O  INF109B1  INF109C1_D1  INF109C1_D2  ...  \\\n",
       "0      Distrital                 NaN          NaN          NaN  ...   \n",
       "1      Distrital                 NaN          NaN          NaN  ...   \n",
       "2      Distrital                 NaN          NaN          NaN  ...   \n",
       "3     Provincial                 NaN          NaN          NaN  ...   \n",
       "4      Distrital                 NaN          NaN          NaN  ...   \n",
       "...          ...       ...       ...          ...          ...  ...   \n",
       "1490    Regional                 1.0         20.0          NaN  ...   \n",
       "1491    Regional                 1.0          3.0          NaN  ...   \n",
       "1492    Regional                 1.0         18.0          NaN  ...   \n",
       "1493    Regional                 1.0         10.0          NaN  ...   \n",
       "1494  Provincial                 NaN          NaN          NaN  ...   \n",
       "\n",
       "      INF126_10  INF126_11  INF126_12  INF126_13  INF126_14  INF126_15  \\\n",
       "0           NaN        NaN        NaN        NaN        NaN        NaN   \n",
       "1           NaN        NaN        NaN        NaN        NaN        NaN   \n",
       "2           NaN        NaN        NaN        NaN        NaN        NaN   \n",
       "3           NaN        NaN        NaN        NaN        NaN        NaN   \n",
       "4           NaN        NaN        NaN        NaN        NaN        NaN   \n",
       "...         ...        ...        ...        ...        ...        ...   \n",
       "1490        NaN        NaN        NaN        NaN        NaN        NaN   \n",
       "1491        NaN        NaN        NaN        NaN        NaN        NaN   \n",
       "1492        NaN        NaN        NaN        NaN        NaN        NaN   \n",
       "1493        NaN        NaN        NaN        NaN        NaN        NaN   \n",
       "1494        NaN        NaN        NaN        NaN        NaN        NaN   \n",
       "\n",
       "      INF126_16  INF126_O  GPSLATITUD_INF  GPSLONGITUD_INF  \n",
       "0           NaN               -9.29806953     -76.00260836  \n",
       "1           NaN               -9.49461342     -75.95306846  \n",
       "2           NaN               -8.93140901     -76.11188986  \n",
       "3           NaN                -8.1884396     -76.51227108  \n",
       "4           NaN               -8.45341229      -76.3241724  \n",
       "...         ...       ...             ...              ...  \n",
       "1490        NaN               -5.19367149     -80.63275722  \n",
       "1491        NaN              -13.62197143     -72.87277891  \n",
       "1492        NaN              -17.64451236     -71.34384742  \n",
       "1493        NaN               -9.93362881     -76.23916271  \n",
       "1494        NaN                -9.0960169     -78.56854555  \n",
       "\n",
       "[1495 rows x 280 columns]"
      ]
     },
     "execution_count": 36,
     "metadata": {},
     "output_type": "execute_result"
    }
   ],
   "source": [
    "mod1226 = r\"..\\01_Data\\01_Cenacom\\2017\\595-Modulo1226\\Cap_100_Infraestructura 2017.sav\"\n",
    "cena1226 = pd.read_spss(mod1226)\n",
    "cena1226"
   ]
  },
  {
   "cell_type": "code",
   "execution_count": 37,
   "id": "52cede08",
   "metadata": {
    "scrolled": true
   },
   "outputs": [
    {
     "data": {
      "text/plain": [
       "ID_N                 object\n",
       "UBIGEO               object\n",
       "CCDI                 object\n",
       "NOMBREDI             object\n",
       "INF109             category\n",
       "                     ...   \n",
       "INF126_15          category\n",
       "INF126_16          category\n",
       "INF126_O             object\n",
       "GPSLATITUD_INF       object\n",
       "GPSLONGITUD_INF      object\n",
       "Length: 280, dtype: object"
      ]
     },
     "execution_count": 37,
     "metadata": {},
     "output_type": "execute_result"
    }
   ],
   "source": [
    "cena1226.dtypes"
   ]
  },
  {
   "cell_type": "markdown",
   "id": "17293b38",
   "metadata": {},
   "source": [
    "Fixing relevant variables to make a merge with police station data"
   ]
  },
  {
   "cell_type": "code",
   "execution_count": 38,
   "id": "a9be6d32",
   "metadata": {},
   "outputs": [],
   "source": [
    "cena1226[\"UBIGEO\"]   = cena1226[\"UBIGEO\"].astype(\"string\")\n",
    "cena1226[\"NOMBREDI\"] = cena1226[\"NOMBREDI\"].str.upper().str.strip()\n",
    "cena1226[\"NOMBREDI\"] = cena1226[\"NOMBREDI\"].str.normalize(\"NFKD\").str.encode(\"ascii\", errors=\"ignore\").str.decode(\"utf-8\")"
   ]
  },
  {
   "cell_type": "code",
   "execution_count": 39,
   "id": "3fdbb7be",
   "metadata": {},
   "outputs": [],
   "source": [
    "# Droping _merge from the last merge in comi\n",
    "comi = comi.drop(columns = \"_merge\")"
   ]
  },
  {
   "cell_type": "markdown",
   "id": "5e749230",
   "metadata": {},
   "source": [
    "Merging Cenacom (cena1226) with police station data (comi) in an auxiliary dataframe (comi3)"
   ]
  },
  {
   "cell_type": "code",
   "execution_count": 40,
   "id": "37f25273",
   "metadata": {},
   "outputs": [],
   "source": [
    "comi3 = pd.merge(comi, cena1226, how=\"right\", left_on=[\"UBIGEO\", \"cod_inei\", \"lat\", \"long\"], \n",
    "                 right_on = [\"UBIGEO\", \"ID_N\", \"GPSLATITUD_INF\", \"GPSLONGITUD_INF\"], validate = \"1:1\", indicator = True)"
   ]
  },
  {
   "cell_type": "markdown",
   "id": "f6134b1b",
   "metadata": {},
   "source": [
    "Looking for unmerged obs"
   ]
  },
  {
   "cell_type": "code",
   "execution_count": 41,
   "id": "4bbafe8a",
   "metadata": {
    "scrolled": true
   },
   "outputs": [
    {
     "data": {
      "text/plain": [
       "both          1304\n",
       "right_only     191\n",
       "left_only        0\n",
       "Name: _merge, dtype: int64"
      ]
     },
     "execution_count": 41,
     "metadata": {},
     "output_type": "execute_result"
    }
   ],
   "source": [
    "comi3[\"_merge\"].value_counts()"
   ]
  },
  {
   "cell_type": "markdown",
   "id": "4dd16d36",
   "metadata": {},
   "source": [
    "Adjusting the 191 values so that they can be plotted. They might be special units."
   ]
  },
  {
   "cell_type": "code",
   "execution_count": 42,
   "id": "da607404",
   "metadata": {},
   "outputs": [],
   "source": [
    "comi3[\"aux\"] = \"UE\" # unidad especial\n",
    "comi3.loc[comi3._merge == \"right_only\", \"nombre\"]=comi3.aux.str.cat(comi3.NOMBREDI, sep= \" \")\n",
    "comi3.loc[comi3._merge == \"right_only\", \"lat\"]=comi3[\"GPSLATITUD_INF\"]\n",
    "comi3.loc[comi3._merge == \"right_only\", \"long\"]=comi3[\"GPSLONGITUD_INF\"]\n",
    "comi3.loc[comi3._merge == \"right_only\", \"distrito\"]=comi3[\"NOMBREDI\"]"
   ]
  },
  {
   "cell_type": "code",
   "execution_count": 43,
   "id": "bb75a1c5",
   "metadata": {},
   "outputs": [],
   "source": [
    "# dropping aux variable\n",
    "comi3 = comi3.drop(columns = \"aux\")"
   ]
  },
  {
   "cell_type": "code",
   "execution_count": 44,
   "id": "64560c20",
   "metadata": {},
   "outputs": [],
   "source": [
    "# Replacing comi with the merged and adjusted dataframe\n",
    "comi=comi3"
   ]
  },
  {
   "cell_type": "markdown",
   "id": "daa45815",
   "metadata": {},
   "source": [
    "### Plotting police stations with number of police officers - Cenacom (2017)"
   ]
  },
  {
   "cell_type": "markdown",
   "id": "fd017ea0",
   "metadata": {},
   "source": [
    "The variable of interest for this module is\n",
    "**INF110_TOT**, which means (¿CUÁNTOS POLICÍAS ESTÁN ASIGNADOS EN LA COMISARÍA? - TOTAL1)."
   ]
  },
  {
   "cell_type": "code",
   "execution_count": 45,
   "id": "32731cd4",
   "metadata": {},
   "outputs": [],
   "source": [
    "comi[\"INF110_TOT\"]=comi[\"INF110_TOT\"].astype(\"int\")"
   ]
  },
  {
   "cell_type": "code",
   "execution_count": 46,
   "id": "df14d6a1",
   "metadata": {},
   "outputs": [
    {
     "data": {
      "text/plain": [
       "<AxesSubplot:>"
      ]
     },
     "execution_count": 46,
     "metadata": {},
     "output_type": "execute_result"
    },
    {
     "data": {
      "image/png": "[encoded data removed]",
      "text/plain": [
       "<Figure size 432x288 with 1 Axes>"
      ]
     },
     "metadata": {
      "needs_background": "light"
     },
     "output_type": "display_data"
    }
   ],
   "source": [
    "comi[\"INF110_TOT\"].hist()"
   ]
  },
  {
   "cell_type": "markdown",
   "id": "5b6dfb57",
   "metadata": {},
   "source": [
    "Plotting police stations with a tooltip for number of police officers"
   ]
  },
  {
   "cell_type": "code",
   "execution_count": 47,
   "id": "a4796637",
   "metadata": {
    "scrolled": true
   },
   "outputs": [],
   "source": [
    "for index, row in comi.iterrows():\n",
    "    folium.CircleMarker(\n",
    "        location = (row[\"lat\"], row[\"long\"]) ,\n",
    "        tooltip = row[\"nombre\"],\n",
    "        popup = \"Policías\" + \" \" + str(row[\"INF110_TOT\"]) ,        \n",
    "        radius = 5,\n",
    "        color = \"blue\",\n",
    "        fill = True,\n",
    "        fill_color = \"#3186cc\",\n",
    "        fill_opacity = 0.7\n",
    "    ).add_to(m)\n",
    "\n",
    "# saving map with number of officers in each police station\n",
    "m.save(output+\"\\cenacom_officers.html\")\n",
    "#m"
   ]
  }
 ],
 "metadata": {
  "kernelspec": {
   "display_name": "Python 3",
   "language": "python",
   "name": "python3"
  },
  "language_info": {
   "codemirror_mode": {
    "name": "ipython",
    "version": 3
   },
   "file_extension": ".py",
   "mimetype": "text/x-python",
   "name": "python",
   "nbconvert_exporter": "python",
   "pygments_lexer": "ipython3",
   "version": "3.8.8"
  }
 },
 "nbformat": 4,
 "nbformat_minor": 5
}
